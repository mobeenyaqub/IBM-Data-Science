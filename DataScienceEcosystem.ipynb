{
 "cells": [
  {
   "cell_type": "markdown",
   "id": "f90f476c-025c-4a01-89c6-c2ad815ea813",
   "metadata": {},
   "source": [
    "# Data Science Tools and Ecosystem"
   ]
  },
  {
   "cell_type": "markdown",
   "id": "c58d6b82-0129-4d03-b115-c8a6ce80b84c",
   "metadata": {},
   "source": [
    "## In this notebook, Data Science Tools and Ecosystem are summarized.\n"
   ]
  },
  {
   "cell_type": "markdown",
   "id": "dc42c565-a9e2-4eb5-b9c2-28880cd0ccd0",
   "metadata": {},
   "source": [
    "<b> Objectives:</b>\n",
    "* Popular Languages for Data Science\n",
    "* Commonly used Libraries by Data Scientists\n",
    "* Data Science tools"
   ]
  },
  {
   "cell_type": "markdown",
   "id": "b02344db-96ad-46ff-bc73-58fe53f7fb3c",
   "metadata": {},
   "source": [
    "## Some of the popular languages that Data Scientists use are:\n",
    "1. Python\n",
    "2. R\n",
    "3. SQL"
   ]
  },
  {
   "cell_type": "markdown",
   "id": "105ed942-2772-4c68-a1ec-1199f3158f50",
   "metadata": {},
   "source": [
    "## Some of the commonly used libraries used by Data Scientists include:\r",
    "1. pandas\n",
    "2. numpy\n",
    "3. matplotlib\n"
   ]
  },
  {
   "cell_type": "markdown",
   "id": "e6d685ad-0728-4743-9877-984fbfbaf5ea",
   "metadata": {},
   "source": [
    "## Data Science Tools\n",
    "* R Studio\n",
    "* pandas\n",
    "* scikit-learn"
   ]
  },
  {
   "cell_type": "markdown",
   "id": "beeac778-a2dd-4c11-bb1f-c5a2b2d6b37a",
   "metadata": {},
   "source": [
    "### Below are a few examples of evaluating arithmetic expressions in Python.\n"
   ]
  },
  {
   "cell_type": "code",
   "execution_count": 17,
   "id": "5984b736-90dd-4b21-a1ba-a80fb8094ceb",
   "metadata": {},
   "outputs": [
    {
     "name": "stdout",
     "output_type": "stream",
     "text": [
      "17\n"
     ]
    }
   ],
   "source": [
    "# This a simple arithmetic expression to mutiply then add integers\n",
    "print((3*4)+5)"
   ]
  },
  {
   "cell_type": "code",
   "execution_count": 21,
   "id": "fe4b0ced-68d6-4224-a359-7e0ab15d7cba",
   "metadata": {},
   "outputs": [
    {
     "name": "stdout",
     "output_type": "stream",
     "text": [
      "3.3333333333333335\n"
     ]
    }
   ],
   "source": [
    "# This will convert 200 minutes to hours by diving by 60\n",
    "\n",
    "print(200/60)"
   ]
  },
  {
   "cell_type": "markdown",
   "id": "20feaa31-6ffd-4d27-9742-d9c03e3cb07a",
   "metadata": {},
   "source": [
    "## Author\n",
    "Mubeen"
   ]
  }
 ],
 "metadata": {
  "kernelspec": {
   "display_name": "Python 3 (ipykernel)",
   "language": "python",
   "name": "python3"
  },
  "language_info": {
   "codemirror_mode": {
    "name": "ipython",
    "version": 3
   },
   "file_extension": ".py",
   "mimetype": "text/x-python",
   "name": "python",
   "nbconvert_exporter": "python",
   "pygments_lexer": "ipython3",
   "version": "3.12.4"
  }
 },
 "nbformat": 4,
 "nbformat_minor": 5
}
